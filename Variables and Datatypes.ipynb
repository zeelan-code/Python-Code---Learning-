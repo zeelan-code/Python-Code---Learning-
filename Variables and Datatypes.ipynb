{
 "cells": [
  {
   "cell_type": "raw",
   "id": "dad33973",
   "metadata": {},
   "source": [
    "VARIABLES and DATA TYPES"
   ]
  },
  {
   "cell_type": "code",
   "execution_count": 4,
   "id": "6e8d7e0a",
   "metadata": {},
   "outputs": [
    {
     "name": "stdout",
     "output_type": "stream",
     "text": [
      "Zilan Basha\n",
      "29\n",
      "4.6\n",
      "<class 'str'>\n",
      "<class 'int'>\n",
      "<class 'float'>\n"
     ]
    }
   ],
   "source": [
    "#assignment of variables \n",
    "name = 'Zilan Basha'\n",
    "age = 29\n",
    "expirience = 4.6\n",
    "\n",
    "#variables data value\n",
    "print(name)\n",
    "print(age)\n",
    "print(expirience)\n",
    "\n",
    "#variables data types\n",
    "print(type(name))\n",
    "print(type(age))\n",
    "print(type(expirience))"
   ]
  },
  {
   "cell_type": "code",
   "execution_count": 7,
   "id": "3e9ae74b",
   "metadata": {},
   "outputs": [
    {
     "name": "stdout",
     "output_type": "stream",
     "text": [
      "Local\n",
      "Global\n"
     ]
    }
   ],
   "source": [
    "#global and local variables\n",
    "\n",
    "i='Global'\n",
    "def inner():\n",
    "    i='Local'\n",
    "    print(i)\n",
    "    \n",
    "inner()\n",
    "print(i)"
   ]
  },
  {
   "cell_type": "code",
   "execution_count": 13,
   "id": "68fa83ec",
   "metadata": {},
   "outputs": [
    {
     "name": "stdout",
     "output_type": "stream",
     "text": [
      "Outer\n",
      "Global\n"
     ]
    }
   ],
   "source": [
    "i=\"Global\"\n",
    "def outer():\n",
    "    i='Outer'\n",
    "    def inner():\n",
    "        print(i)\n",
    "    inner()\n",
    "outer()\n",
    "print(i)"
   ]
  },
  {
   "cell_type": "code",
   "execution_count": null,
   "id": "5802c584",
   "metadata": {},
   "outputs": [],
   "source": []
  }
 ],
 "metadata": {
  "kernelspec": {
   "display_name": "Python 3 (ipykernel)",
   "language": "python",
   "name": "python3"
  },
  "language_info": {
   "codemirror_mode": {
    "name": "ipython",
    "version": 3
   },
   "file_extension": ".py",
   "mimetype": "text/x-python",
   "name": "python",
   "nbconvert_exporter": "python",
   "pygments_lexer": "ipython3",
   "version": "3.9.12"
  }
 },
 "nbformat": 4,
 "nbformat_minor": 5
}
