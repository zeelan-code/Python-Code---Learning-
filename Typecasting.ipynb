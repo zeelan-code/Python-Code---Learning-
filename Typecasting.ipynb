{
 "cells": [
  {
   "cell_type": "raw",
   "id": "a4e6f1a8",
   "metadata": {},
   "source": [
    "TYPE CASTING"
   ]
  },
  {
   "cell_type": "code",
   "execution_count": 1,
   "id": "7666547b",
   "metadata": {},
   "outputs": [
    {
     "name": "stdout",
     "output_type": "stream",
     "text": [
      "<class 'int'>\n"
     ]
    },
    {
     "data": {
      "text/plain": [
       "'45'"
      ]
     },
     "execution_count": 1,
     "metadata": {},
     "output_type": "execute_result"
    }
   ],
   "source": [
    "x = 45\n",
    "print(type(x))\n",
    "\n",
    "#typecasting int to string\n",
    "str(x)"
   ]
  },
  {
   "cell_type": "code",
   "execution_count": 2,
   "id": "8430cdb0",
   "metadata": {},
   "outputs": [
    {
     "name": "stdout",
     "output_type": "stream",
     "text": [
      "<class 'float'>\n"
     ]
    },
    {
     "data": {
      "text/plain": [
       "4"
      ]
     },
     "execution_count": 2,
     "metadata": {},
     "output_type": "execute_result"
    }
   ],
   "source": [
    "y=4.5\n",
    "print(type(y))\n",
    "\n",
    "#typecasting float to int\n",
    "int(y)"
   ]
  },
  {
   "cell_type": "code",
   "execution_count": 3,
   "id": "1e62592e",
   "metadata": {},
   "outputs": [
    {
     "data": {
      "text/plain": [
       "6.0"
      ]
     },
     "execution_count": 3,
     "metadata": {},
     "output_type": "execute_result"
    }
   ],
   "source": [
    "z=6\n",
    "\n",
    "#typecasting int to float\n",
    "float(z)"
   ]
  },
  {
   "cell_type": "code",
   "execution_count": null,
   "id": "528f9ca8",
   "metadata": {},
   "outputs": [],
   "source": []
  }
 ],
 "metadata": {
  "kernelspec": {
   "display_name": "Python 3 (ipykernel)",
   "language": "python",
   "name": "python3"
  },
  "language_info": {
   "codemirror_mode": {
    "name": "ipython",
    "version": 3
   },
   "file_extension": ".py",
   "mimetype": "text/x-python",
   "name": "python",
   "nbconvert_exporter": "python",
   "pygments_lexer": "ipython3",
   "version": "3.9.12"
  }
 },
 "nbformat": 4,
 "nbformat_minor": 5
}
